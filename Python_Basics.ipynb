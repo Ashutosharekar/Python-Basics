{
  "nbformat": 4,
  "nbformat_minor": 0,
  "metadata": {
    "colab": {
      "provenance": []
    },
    "kernelspec": {
      "name": "python3",
      "display_name": "Python 3"
    },
    "language_info": {
      "name": "python"
    }
  },
  "cells": [
    {
      "cell_type": "markdown",
      "source": [
        "#Python Basics Assignment\n",
        "\n",
        "1. What is Python, and why is it popular ?\n",
        " - Python is a simple, high-level programming language. It’s popular because it’s versatile,widely used in the industry and has a huge collection of libraries and community support.\n",
        "\n",
        "2. What is an interpreter in Python ?\n",
        " - An interpreter in Python is a program that reads and runs the code line by line, instead of converting it all to machine code at once.This makes it easier to test and debug programs while writing them.\n",
        "\n",
        "3. What are pre-defined keywords in Python ?\n",
        " - Pre-defined keywords in Python are special reserved words that have a fixed meaning in the language.They’re used for specific purposes, like defining loops, conditions, or functions.\n",
        " Example: if, for, while.\n",
        "\n",
        "4. Can keywords be used as variable names ?\n",
        " - No, keywords can’t be used as variable names in Python because they’re reserved for specific functions and rules in the language.\n",
        "\n",
        "5. What is mutability in Python ?\n",
        " - Mutability in Python means whether the value of an object can be changed after it’s created.If it can be changed, it’s mutable .If it cannot be changed, it’s immutable.\n",
        "\n",
        "6. Why are lists mutable, but tuples are immutable ?\n",
        " - Lists are mutable because we can change, add, or remove their elements after creation.Tuples are immutable because once they’re created, their elements can’t be altered or changed.\n",
        "\n",
        "7. What is the difference between “==” and “is” operators in Python ?\n",
        " - The difference between the \"==\" and \"is\" operator is, \"==\" checks if the values of two objects are the same, while the \"is\" checks if they are actually the same object in memory.\n",
        "\n",
        "    Example:"
      ],
      "metadata": {
        "id": "a0Qn-9GsI0yw"
      }
    },
    {
      "cell_type": "code",
      "source": [
        "a = [1, 2]\n",
        "b = [1, 2]\n",
        "print(a == b)  # True  (values are same)\n",
        "print(a is b)  # False (different objects in memory)\n"
      ],
      "metadata": {
        "id": "dnGB67uBJTvd"
      },
      "execution_count": null,
      "outputs": []
    },
    {
      "cell_type": "markdown",
      "source": [
        "8. What are logical operators in Python  ?\n",
        " - Logical operators in Python are used to make decisions by combining or modifying conditions in an expression.   \n",
        " They are:  \n",
        "    - \"and\" – Returns True only if both conditions are True.\n",
        "    - \"or\" – Returns True if at least one condition is True.\n",
        "    -  \"not\" – Flips the result; if the condition is True, it becomes False, and vice versa.\n",
        "\n",
        "9. What is type casting in Python  ?\n",
        " - Type casting in Python means converting a value from one data type to another, like changing an integer to a string or a float .It helps when we need data in a specific format for calculations or comparisons.\n",
        "\n",
        "10. What is the difference between implicit and explicit type casting ?\n",
        " - Implicit type casting in Python happens automatically when the interpreter converts one data type to another compatible type, to avoid data loss.\n",
        " Explicit type casting, on the other hand, is done manually by the programmer using functions like int(), float(), or str() to change a value from one data type to another as needed.    \n",
        "\n",
        "    Example:"
      ],
      "metadata": {
        "id": "abNk1jVdJb9L"
      }
    },
    {
      "cell_type": "code",
      "source": [
        "#Implicit type casting\n",
        "x = 5   # int\n",
        "y = 2.5 # float\n",
        "z = x + y  # int is converted to float automatically\n",
        "print(z)  # 7.5\n",
        "\n",
        "#Explicit type casting\n",
        "a = \"100\"\n",
        "b = int(a)  # converting string to int manually"
      ],
      "metadata": {
        "id": "bUheUiz7KyHf"
      },
      "execution_count": null,
      "outputs": []
    },
    {
      "cell_type": "markdown",
      "source": [
        "\n",
        "11. What is the purpose of conditional statements in Python ?\n",
        " - The purpose of conditional statements in Python is to make decisions in a program based on certain conditions.They allow the program to run specific blocks of code only when a given condition is true, and skip or run alternative code when the condition is false.\n",
        "\n",
        "12. How does the elif statement work ?\n",
        " - The elif statement in Python is used when we want to check multiple conditions one after another.If the first if condition is false, Python moves to the elif condition and checks it.If that is true, its block runs, and the rest are skipped.If none of the if or elif conditions are true, the else block\n",
        " will run.\n",
        "\n",
        "13. What is the difference between for and while loops ?\n",
        " - A for loop is used when we already know how many times we want to repeat a block of code, as it iterates over a sequence like a list, range, or string.A while loop is used when we want the code to keep running until a certain condition becomes false, without knowing before how many times the loop will run.\n",
        "\n",
        "14. Describe a scenario where a while loop is more suitable than a for loop ?\n",
        " - A while loop is more suitable when we don’t know in advance how many times the code should run. For example, if we are asking a user to enter a password until they get it right, we can’t predict how many attempts they will need, so a while loop will keep running until the correct password is entered.\n",
        "\n",
        "\n",
        "# Practical Questions"
      ],
      "metadata": {
        "id": "yucw_pL-LOv3"
      }
    },
    {
      "cell_type": "code",
      "source": [
        "#1.Write a Python program to print \"Hello, World!\"\n",
        "print(\"Hello World!\")"
      ],
      "metadata": {
        "id": "pLztH209JSim",
        "colab": {
          "base_uri": "https://localhost:8080/"
        },
        "outputId": "515cf7ed-24d4-49d5-8414-b71cc5c85190"
      },
      "execution_count": null,
      "outputs": [
        {
          "output_type": "stream",
          "name": "stdout",
          "text": [
            "Hello World!\n"
          ]
        }
      ]
    },
    {
      "cell_type": "code",
      "source": [
        "#2 Write a Python program that displays your name and age\n",
        "name = \"Ashutosh\"\n",
        "age = 22\n",
        "print(\"Name:\", name)\n",
        "print(\"Age:\", age)"
      ],
      "metadata": {
        "id": "u49sV06QLx8J",
        "colab": {
          "base_uri": "https://localhost:8080/"
        },
        "outputId": "e7827977-aee3-42a6-a54c-1e068eee7a72"
      },
      "execution_count": null,
      "outputs": [
        {
          "output_type": "stream",
          "name": "stdout",
          "text": [
            "Name: Ashutosh\n",
            "Age: 22\n"
          ]
        }
      ]
    },
    {
      "cell_type": "code",
      "source": [
        "#3 Write code to print all the pre-defined keywords in Python using the keyword library\n",
        "import keyword\n",
        "\n",
        "print(\"Python Keywords are:\")\n",
        "print(keyword.kwlist)\n"
      ],
      "metadata": {
        "colab": {
          "base_uri": "https://localhost:8080/"
        },
        "id": "5QSIeJ1CL8BY",
        "outputId": "ef9f4995-7c8c-4f1a-c888-08924d037d59"
      },
      "execution_count": null,
      "outputs": [
        {
          "output_type": "stream",
          "name": "stdout",
          "text": [
            "Python Keywords are:\n",
            "['False', 'None', 'True', 'and', 'as', 'assert', 'async', 'await', 'break', 'class', 'continue', 'def', 'del', 'elif', 'else', 'except', 'finally', 'for', 'from', 'global', 'if', 'import', 'in', 'is', 'lambda', 'nonlocal', 'not', 'or', 'pass', 'raise', 'return', 'try', 'while', 'with', 'yield']\n"
          ]
        }
      ]
    },
    {
      "cell_type": "code",
      "source": [
        "#4 Write a program that checks if a given word is a Python keyword\n",
        "import keyword\n",
        "\n",
        "word = input(\"Enter a word: \")\n",
        "\n",
        "if keyword.iskeyword(word):\n",
        "    print(word, \"is a Python keyword.\")\n",
        "else:\n",
        "    print(word, \"is not a Python keyword.\")\n"
      ],
      "metadata": {
        "colab": {
          "base_uri": "https://localhost:8080/"
        },
        "id": "hmh8T-hsL_cU",
        "outputId": "fba3c758-1feb-4714-b8b2-6f3cd66a607d"
      },
      "execution_count": null,
      "outputs": [
        {
          "output_type": "stream",
          "name": "stdout",
          "text": [
            "Enter a word: if\n",
            "if is a Python keyword.\n"
          ]
        }
      ]
    },
    {
      "cell_type": "code",
      "source": [
        "#5 Create a list and tuple in Python, and demonstrate how attempting to change an element works differently for each\n",
        "\n",
        "my_list = [1, 2, 3, 4, 5]\n",
        "my_tuple = (1, 2, 3, 4, 5)\n",
        "print(\"Original list:\", my_list)\n",
        "print(\"Original tuple:\", my_tuple)\n",
        "\n",
        "# Changing an element in the list\n",
        "my_list[1] = 99\n",
        "print(\"Modified list:\", my_list)\n",
        "\n",
        "# Trying to change an element in the tuple (will cause an error)\n",
        "my_tuple[1] = 99  # This line will stop the program with a TypeError\n",
        "print(\"Modified tuple:\", my_tuple)\n"
      ],
      "metadata": {
        "colab": {
          "base_uri": "https://localhost:8080/",
          "height": 245
        },
        "id": "7H-9copQMGBa",
        "outputId": "43ce3e14-2b01-4664-920f-3a040d5745a8"
      },
      "execution_count": null,
      "outputs": [
        {
          "output_type": "stream",
          "name": "stdout",
          "text": [
            "Original list: [1, 2, 3, 4, 5]\n",
            "Original tuple: (1, 2, 3, 4, 5)\n",
            "Modified list: [1, 99, 3, 4, 5]\n"
          ]
        },
        {
          "output_type": "error",
          "ename": "TypeError",
          "evalue": "'tuple' object does not support item assignment",
          "traceback": [
            "\u001b[0;31m---------------------------------------------------------------------------\u001b[0m",
            "\u001b[0;31mTypeError\u001b[0m                                 Traceback (most recent call last)",
            "\u001b[0;32m/tmp/ipython-input-2428096251.py\u001b[0m in \u001b[0;36m<cell line: 0>\u001b[0;34m()\u001b[0m\n\u001b[1;32m     11\u001b[0m \u001b[0;34m\u001b[0m\u001b[0m\n\u001b[1;32m     12\u001b[0m \u001b[0;31m# Trying to change an element in the tuple (will cause an error)\u001b[0m\u001b[0;34m\u001b[0m\u001b[0;34m\u001b[0m\u001b[0m\n\u001b[0;32m---> 13\u001b[0;31m \u001b[0mmy_tuple\u001b[0m\u001b[0;34m[\u001b[0m\u001b[0;36m1\u001b[0m\u001b[0;34m]\u001b[0m \u001b[0;34m=\u001b[0m \u001b[0;36m99\u001b[0m  \u001b[0;31m# This line will stop the program with a TypeError\u001b[0m\u001b[0;34m\u001b[0m\u001b[0;34m\u001b[0m\u001b[0m\n\u001b[0m\u001b[1;32m     14\u001b[0m \u001b[0mprint\u001b[0m\u001b[0;34m(\u001b[0m\u001b[0;34m\"Modified tuple:\"\u001b[0m\u001b[0;34m,\u001b[0m \u001b[0mmy_tuple\u001b[0m\u001b[0;34m)\u001b[0m\u001b[0;34m\u001b[0m\u001b[0;34m\u001b[0m\u001b[0m\n",
            "\u001b[0;31mTypeError\u001b[0m: 'tuple' object does not support item assignment"
          ]
        }
      ]
    },
    {
      "cell_type": "code",
      "source": [
        "#6 Write a function to demonstrate the behavior of mutable and immutable arguments\n",
        "def change_values(a, b):\n",
        "    a = a + 5      # Trying to change number\n",
        "    b.append(4)    # Adding a new element to the list\n",
        "    print(\"Inside function - a:\", a)\n",
        "    print(\"Inside function - b:\", b)\n",
        "\n",
        "# Number (immutable)\n",
        "num = 10\n",
        "# List (mutable)\n",
        "numbers = [1, 2, 3]\n",
        "\n",
        "change_values(num, numbers)\n",
        "\n",
        "print(\"Outside function - num:\", num)       # Unchanged\n",
        "print(\"Outside function - numbers:\", numbers)  # Changed\n",
        "\n",
        "\n"
      ],
      "metadata": {
        "colab": {
          "base_uri": "https://localhost:8080/"
        },
        "id": "kK_WL6E7MKz1",
        "outputId": "db0bcce8-d232-4b3c-ecac-a74de77bc71c"
      },
      "execution_count": null,
      "outputs": [
        {
          "output_type": "stream",
          "name": "stdout",
          "text": [
            "Inside function - a: 15\n",
            "Inside function - b: [1, 2, 3, 4]\n",
            "Outside function - num: 10\n",
            "Outside function - numbers: [1, 2, 3, 4]\n"
          ]
        }
      ]
    },
    {
      "cell_type": "code",
      "source": [
        "#7 Write a program that performs basic arithmetic operations on two user-input numbers\n",
        "num1 = float(input(\"Enter first number: \"))\n",
        "num2 = float(input(\"Enter second number: \"))\n",
        "\n",
        "# Arithmatic operations\n",
        "print(\"Addition:\", num1 + num2)\n",
        "print(\"Subtraction:\", num1 - num2)\n",
        "print(\"Multiplication:\", num1 * num2)\n",
        "print(\"Division:\", num1 / num2)\n"
      ],
      "metadata": {
        "colab": {
          "base_uri": "https://localhost:8080/"
        },
        "id": "3lBXLWU8MT3y",
        "outputId": "857ea2cd-d5c5-42fd-f980-9613ffc67294"
      },
      "execution_count": null,
      "outputs": [
        {
          "output_type": "stream",
          "name": "stdout",
          "text": [
            "Enter first number: 5\n",
            "Enter second number: 3\n",
            "Addition: 8.0\n",
            "Subtraction: 2.0\n",
            "Multiplication: 15.0\n",
            "Division: 1.6666666666666667\n"
          ]
        }
      ]
    },
    {
      "cell_type": "code",
      "source": [
        "#8 Write a program to demonstrate the use of logical operators.\n",
        "\n",
        "a = int(input(\"Enter first number: \"))\n",
        "b = int(input(\"Enter second number: \"))\n",
        "\n",
        "print(\"a > 0 and b > 0:\", a > 0 and b > 0)   # True if both are positive\n",
        "print(\"a > 0 or b > 0:\", a > 0 or b > 0)     # True if at least one is positive\n",
        "print(\"not(a > 0):\", not(a > 0))             # True if a is NOT positive"
      ],
      "metadata": {
        "colab": {
          "base_uri": "https://localhost:8080/"
        },
        "id": "oq5KWPgkMW0E",
        "outputId": "a4a9cac6-f188-4465-9e7e-79dc9ac8073f"
      },
      "execution_count": null,
      "outputs": [
        {
          "output_type": "stream",
          "name": "stdout",
          "text": [
            "Enter first number: 2\n",
            "Enter second number: -3\n",
            "a > 0 and b > 0: False\n",
            "a > 0 or b > 0: True\n",
            "not(a > 0): False\n"
          ]
        }
      ]
    },
    {
      "cell_type": "code",
      "source": [
        "#9 Write a Python program to convert user input from string to integer, float, and boolean types\n",
        "\n",
        "# Taking string as input from user\n",
        "value = input(\"Enter something: \")\n",
        "\n",
        "# Converting to different types\n",
        "int_value = int(value)\n",
        "float_value = float(value)\n",
        "bool_value = bool(value)\n",
        "\n",
        "# Results\n",
        "print(\"As Integer:\", int_value)\n",
        "print(\"As Float:\", float_value)\n",
        "print(\"As Boolean:\", bool_value)"
      ],
      "metadata": {
        "colab": {
          "base_uri": "https://localhost:8080/"
        },
        "id": "-w5lFQ2fMb9c",
        "outputId": "68d1c67c-8cee-458e-d3b0-c9c7eb6312aa"
      },
      "execution_count": null,
      "outputs": [
        {
          "output_type": "stream",
          "name": "stdout",
          "text": [
            "Enter something: 6\n",
            "As Integer: 6\n",
            "As Float: 6.0\n",
            "As Boolean: True\n"
          ]
        }
      ]
    },
    {
      "cell_type": "code",
      "source": [
        "#10 Write code to demonstrate type casting with list elements\n",
        "\n",
        "str_list = [\"10\", \"20\", \"30\"]\n",
        "\n",
        "# Converting each element to integer\n",
        "int_list = [int(x) for x in str_list]\n",
        "\n",
        "# Converting each element to float\n",
        "float_list = [float(x) for x in str_list]\n",
        "\n",
        "print(\"Original string list:\", str_list)\n",
        "print(\"List after casting to integers:\", int_list)\n",
        "print(\"List after casting to floats:\", float_list)"
      ],
      "metadata": {
        "colab": {
          "base_uri": "https://localhost:8080/"
        },
        "id": "BjRw5hxKMieS",
        "outputId": "ebe57713-2917-4f79-fcce-3a9e2b5ad6d4"
      },
      "execution_count": null,
      "outputs": [
        {
          "output_type": "stream",
          "name": "stdout",
          "text": [
            "Original string list: ['10', '20', '30']\n",
            "List after casting to integers: [10, 20, 30]\n",
            "List after casting to floats: [10.0, 20.0, 30.0]\n"
          ]
        }
      ]
    },
    {
      "cell_type": "code",
      "source": [
        "#11 Write a program that checks if a number is positive, negative, or zero\n",
        "\n",
        "num = float(input(\"Enter a number: \"))\n",
        "\n",
        "if num > 0:\n",
        "    print(\"The number is positive.\")\n",
        "elif num < 0:\n",
        "    print(\"The number is negative.\")\n",
        "else:\n",
        "    print(\"The number is zero.\")"
      ],
      "metadata": {
        "colab": {
          "base_uri": "https://localhost:8080/"
        },
        "id": "_QbAooP1Mmtz",
        "outputId": "87b6bd9e-a09b-4599-87c7-5f877f03206e"
      },
      "execution_count": null,
      "outputs": [
        {
          "output_type": "stream",
          "name": "stdout",
          "text": [
            "Enter a number: 2\n",
            "The number is positive.\n"
          ]
        }
      ]
    },
    {
      "cell_type": "code",
      "source": [
        "#12 Write a for loop to print numbers from 1 to 10.\n",
        "\n",
        "for i in range(1, 11):\n",
        "    print(i)"
      ],
      "metadata": {
        "colab": {
          "base_uri": "https://localhost:8080/"
        },
        "id": "XOfl0DhDMs4A",
        "outputId": "4329de93-b9aa-4219-c1b9-f73e282be751"
      },
      "execution_count": null,
      "outputs": [
        {
          "output_type": "stream",
          "name": "stdout",
          "text": [
            "1\n",
            "2\n",
            "3\n",
            "4\n",
            "5\n",
            "6\n",
            "7\n",
            "8\n",
            "9\n",
            "10\n"
          ]
        }
      ]
    },
    {
      "cell_type": "code",
      "source": [
        "#13 Write a Python program to find the sum of all even numbers between 1 and 50\n",
        "sum_even = 0\n",
        "\n",
        "for num in range(1, 51):\n",
        "    if num % 2 == 0:\n",
        "        sum_even += num\n",
        "\n",
        "print(\"Sum of even numbers from 1 to 50 is:\", sum_even)"
      ],
      "metadata": {
        "colab": {
          "base_uri": "https://localhost:8080/"
        },
        "id": "OLlY6HrAMuss",
        "outputId": "b526a7fc-44bb-4fd1-cb1c-1feb1ba0298b"
      },
      "execution_count": null,
      "outputs": [
        {
          "output_type": "stream",
          "name": "stdout",
          "text": [
            "Sum of even numbers from 1 to 50 is: 650\n"
          ]
        }
      ]
    },
    {
      "cell_type": "code",
      "source": [
        "#14 Write a program to reverse a string using a while loop.\n",
        "text = \"Python\"\n",
        "reversed_text = \"\"\n",
        "index = len(text) - 1\n",
        "\n",
        "while index >= 0:\n",
        "    reversed_text += text[index]\n",
        "    index -= 1\n",
        "\n",
        "print(\"Reversed string:\", reversed_text)"
      ],
      "metadata": {
        "colab": {
          "base_uri": "https://localhost:8080/"
        },
        "id": "urgOvsR7MxYn",
        "outputId": "14e81bbe-d398-43ed-9417-0e32a1ac13ff"
      },
      "execution_count": null,
      "outputs": [
        {
          "output_type": "stream",
          "name": "stdout",
          "text": [
            "Reversed string: nohtyP\n"
          ]
        }
      ]
    },
    {
      "cell_type": "code",
      "source": [
        "#15 Write a Python program to calculate the factorial of a number provided by the user using a while loop.\n",
        "num = int(input(\"Enter a number: \"))\n",
        "factorial = 1\n",
        "current = 1\n",
        "\n",
        "while current <= num:\n",
        "    factorial *= current\n",
        "    current += 1\n",
        "\n",
        "print(f\"The factorial of {num} is {factorial}\")"
      ],
      "metadata": {
        "colab": {
          "base_uri": "https://localhost:8080/"
        },
        "id": "1ttdXTuoM2So",
        "outputId": "bfd48a5c-c974-4aab-8fb9-574b9e754c3b"
      },
      "execution_count": null,
      "outputs": [
        {
          "output_type": "stream",
          "name": "stdout",
          "text": [
            "Enter a number: 4\n",
            "The factorial of 4 is 24\n"
          ]
        }
      ]
    }
  ]
}